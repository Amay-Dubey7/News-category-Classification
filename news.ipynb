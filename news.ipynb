{
 "cells": [
  {
   "cell_type": "code",
   "execution_count": 1,
   "metadata": {},
   "outputs": [],
   "source": [
    "#importing libraries\n",
    "import numpy as np\n",
    "import pandas as pd\n",
    "\n",
    "import os\n",
    "import math\n",
    "import time\n",
    "\n",
    "import matplotlib.pyplot as plt\n",
    "import seaborn as sns\n",
    "\n",
    "#NLTK libraries\n",
    "from nltk.corpus import stopwords\n",
    "from nltk.tokenize import word_tokenize\n",
    "from nltk.stem import WordNetLemmatizer\n",
    "\n",
    "#feature representation using sklearn\n",
    "from sklearn.feature_extraction.text import CountVectorizer,TfidfVectorizer\n",
    "\n",
    "#Libraries for similarity matrices using sklearn\n",
    "from sklearn.metrics.pairwise import cosine_similarity\n",
    "from sklearn.metrics import pairwise_distances, accuracy_score,f1_score"
   ]
  },
  {
   "cell_type": "code",
   "execution_count": 10,
   "metadata": {},
   "outputs": [],
   "source": [
    "df = pd.read_json('News_Category_Dataset_v2.json',lines = True)"
   ]
  },
  {
   "cell_type": "code",
   "execution_count": 11,
   "metadata": {},
   "outputs": [
    {
     "data": {
      "text/html": [
       "<div>\n",
       "<style scoped>\n",
       "    .dataframe tbody tr th:only-of-type {\n",
       "        vertical-align: middle;\n",
       "    }\n",
       "\n",
       "    .dataframe tbody tr th {\n",
       "        vertical-align: top;\n",
       "    }\n",
       "\n",
       "    .dataframe thead th {\n",
       "        text-align: right;\n",
       "    }\n",
       "</style>\n",
       "<table border=\"1\" class=\"dataframe\">\n",
       "  <thead>\n",
       "    <tr style=\"text-align: right;\">\n",
       "      <th></th>\n",
       "      <th>authors</th>\n",
       "      <th>category</th>\n",
       "      <th>date</th>\n",
       "      <th>headline</th>\n",
       "      <th>link</th>\n",
       "      <th>short_description</th>\n",
       "    </tr>\n",
       "  </thead>\n",
       "  <tbody>\n",
       "    <tr>\n",
       "      <th>0</th>\n",
       "      <td>Melissa Jeltsen</td>\n",
       "      <td>CRIME</td>\n",
       "      <td>2018-05-26</td>\n",
       "      <td>There Were 2 Mass Shootings In Texas Last Week...</td>\n",
       "      <td>https://www.huffingtonpost.com/entry/texas-ama...</td>\n",
       "      <td>She left her husband. He killed their children...</td>\n",
       "    </tr>\n",
       "    <tr>\n",
       "      <th>1</th>\n",
       "      <td>Andy McDonald</td>\n",
       "      <td>ENTERTAINMENT</td>\n",
       "      <td>2018-05-26</td>\n",
       "      <td>Will Smith Joins Diplo And Nicky Jam For The 2...</td>\n",
       "      <td>https://www.huffingtonpost.com/entry/will-smit...</td>\n",
       "      <td>Of course it has a song.</td>\n",
       "    </tr>\n",
       "    <tr>\n",
       "      <th>2</th>\n",
       "      <td>Ron Dicker</td>\n",
       "      <td>ENTERTAINMENT</td>\n",
       "      <td>2018-05-26</td>\n",
       "      <td>Hugh Grant Marries For The First Time At Age 57</td>\n",
       "      <td>https://www.huffingtonpost.com/entry/hugh-gran...</td>\n",
       "      <td>The actor and his longtime girlfriend Anna Ebe...</td>\n",
       "    </tr>\n",
       "    <tr>\n",
       "      <th>3</th>\n",
       "      <td>Ron Dicker</td>\n",
       "      <td>ENTERTAINMENT</td>\n",
       "      <td>2018-05-26</td>\n",
       "      <td>Jim Carrey Blasts 'Castrato' Adam Schiff And D...</td>\n",
       "      <td>https://www.huffingtonpost.com/entry/jim-carre...</td>\n",
       "      <td>The actor gives Dems an ass-kicking for not fi...</td>\n",
       "    </tr>\n",
       "    <tr>\n",
       "      <th>4</th>\n",
       "      <td>Ron Dicker</td>\n",
       "      <td>ENTERTAINMENT</td>\n",
       "      <td>2018-05-26</td>\n",
       "      <td>Julianna Margulies Uses Donald Trump Poop Bags...</td>\n",
       "      <td>https://www.huffingtonpost.com/entry/julianna-...</td>\n",
       "      <td>The \"Dietland\" actress said using the bags is ...</td>\n",
       "    </tr>\n",
       "  </tbody>\n",
       "</table>\n",
       "</div>"
      ],
      "text/plain": [
       "           authors       category       date  \\\n",
       "0  Melissa Jeltsen          CRIME 2018-05-26   \n",
       "1    Andy McDonald  ENTERTAINMENT 2018-05-26   \n",
       "2       Ron Dicker  ENTERTAINMENT 2018-05-26   \n",
       "3       Ron Dicker  ENTERTAINMENT 2018-05-26   \n",
       "4       Ron Dicker  ENTERTAINMENT 2018-05-26   \n",
       "\n",
       "                                            headline  \\\n",
       "0  There Were 2 Mass Shootings In Texas Last Week...   \n",
       "1  Will Smith Joins Diplo And Nicky Jam For The 2...   \n",
       "2    Hugh Grant Marries For The First Time At Age 57   \n",
       "3  Jim Carrey Blasts 'Castrato' Adam Schiff And D...   \n",
       "4  Julianna Margulies Uses Donald Trump Poop Bags...   \n",
       "\n",
       "                                                link  \\\n",
       "0  https://www.huffingtonpost.com/entry/texas-ama...   \n",
       "1  https://www.huffingtonpost.com/entry/will-smit...   \n",
       "2  https://www.huffingtonpost.com/entry/hugh-gran...   \n",
       "3  https://www.huffingtonpost.com/entry/jim-carre...   \n",
       "4  https://www.huffingtonpost.com/entry/julianna-...   \n",
       "\n",
       "                                   short_description  \n",
       "0  She left her husband. He killed their children...  \n",
       "1                           Of course it has a song.  \n",
       "2  The actor and his longtime girlfriend Anna Ebe...  \n",
       "3  The actor gives Dems an ass-kicking for not fi...  \n",
       "4  The \"Dietland\" actress said using the bags is ...  "
      ]
     },
     "execution_count": 11,
     "metadata": {},
     "output_type": "execute_result"
    }
   ],
   "source": [
    "df.head()"
   ]
  },
  {
   "cell_type": "code",
   "execution_count": 12,
   "metadata": {},
   "outputs": [
    {
     "name": "stdout",
     "output_type": "stream",
     "text": [
      "<class 'pandas.core.frame.DataFrame'>\n",
      "RangeIndex: 200853 entries, 0 to 200852\n",
      "Data columns (total 6 columns):\n",
      "authors              200853 non-null object\n",
      "category             200853 non-null object\n",
      "date                 200853 non-null datetime64[ns]\n",
      "headline             200853 non-null object\n",
      "link                 200853 non-null object\n",
      "short_description    200853 non-null object\n",
      "dtypes: datetime64[ns](1), object(5)\n",
      "memory usage: 9.2+ MB\n"
     ]
    }
   ],
   "source": [
    "df.info()"
   ]
  },
  {
   "cell_type": "code",
   "execution_count": 13,
   "metadata": {},
   "outputs": [],
   "source": [
    "#since dataset is large we are refraining from using the whole dataset and use latest articles from year 2018\n",
    "df = df[df['date'] >= pd.Timestamp(2018,1,1)]"
   ]
  },
  {
   "cell_type": "code",
   "execution_count": 14,
   "metadata": {},
   "outputs": [
    {
     "data": {
      "text/plain": [
       "(8583, 6)"
      ]
     },
     "execution_count": 14,
     "metadata": {},
     "output_type": "execute_result"
    }
   ],
   "source": [
    "df.shape"
   ]
  },
  {
   "cell_type": "code",
   "execution_count": 15,
   "metadata": {},
   "outputs": [
    {
     "data": {
      "text/plain": [
       "(8530, 6)"
      ]
     },
     "execution_count": 15,
     "metadata": {},
     "output_type": "execute_result"
    }
   ],
   "source": [
    "#Removing all short headlines articles\n",
    "df = df[df['headline'].apply(lambda x :len(x.split())>5)]\n",
    "df.shape"
   ]
  },
  {
   "cell_type": "code",
   "execution_count": 16,
   "metadata": {},
   "outputs": [
    {
     "data": {
      "text/plain": [
       "(8485, 6)"
      ]
     },
     "execution_count": 16,
     "metadata": {},
     "output_type": "execute_result"
    }
   ],
   "source": [
    "#removing duplicated headlined articles\n",
    "df.sort_values('headline',inplace = True,ascending = False)\n",
    "duplicated_df = df.duplicated('headline',keep = False)\n",
    "df = df[~duplicated_df]\n",
    "df.shape"
   ]
  },
  {
   "cell_type": "code",
   "execution_count": 17,
   "metadata": {},
   "outputs": [
    {
     "data": {
      "text/plain": [
       "authors              0\n",
       "category             0\n",
       "date                 0\n",
       "headline             0\n",
       "link                 0\n",
       "short_description    0\n",
       "dtype: int64"
      ]
     },
     "execution_count": 17,
     "metadata": {},
     "output_type": "execute_result"
    }
   ],
   "source": [
    "#checking for missing values\n",
    "df.isna().sum()"
   ]
  },
  {
   "cell_type": "code",
   "execution_count": 18,
   "metadata": {},
   "outputs": [
    {
     "data": {
      "text/plain": [
       "892"
      ]
     },
     "execution_count": 18,
     "metadata": {},
     "output_type": "execute_result"
    }
   ],
   "source": [
    "df['authors'].nunique()"
   ]
  },
  {
   "cell_type": "code",
   "execution_count": 19,
   "metadata": {},
   "outputs": [
    {
     "data": {
      "text/plain": [
       "26"
      ]
     },
     "execution_count": 19,
     "metadata": {},
     "output_type": "execute_result"
    }
   ],
   "source": [
    "df['category'].nunique()"
   ]
  },
  {
   "cell_type": "code",
   "execution_count": 20,
   "metadata": {},
   "outputs": [],
   "source": [
    "## Adding a new column containing both day of the week and month, it will be required later while recommending based on day of the week and month\n",
    "df['day and month'] = df['date'].dt.strftime('%a') + \"_\" + df['date'].dt.strftime('%b')"
   ]
  },
  {
   "cell_type": "code",
   "execution_count": 27,
   "metadata": {},
   "outputs": [],
   "source": [
    "df_temp = df.copy()"
   ]
  },
  {
   "cell_type": "code",
   "execution_count": 22,
   "metadata": {},
   "outputs": [
    {
     "data": {
      "text/html": [
       "<div>\n",
       "<style scoped>\n",
       "    .dataframe tbody tr th:only-of-type {\n",
       "        vertical-align: middle;\n",
       "    }\n",
       "\n",
       "    .dataframe tbody tr th {\n",
       "        vertical-align: top;\n",
       "    }\n",
       "\n",
       "    .dataframe thead th {\n",
       "        text-align: right;\n",
       "    }\n",
       "</style>\n",
       "<table border=\"1\" class=\"dataframe\">\n",
       "  <thead>\n",
       "    <tr style=\"text-align: right;\">\n",
       "      <th></th>\n",
       "      <th>authors</th>\n",
       "      <th>category</th>\n",
       "      <th>date</th>\n",
       "      <th>headline</th>\n",
       "      <th>link</th>\n",
       "      <th>short_description</th>\n",
       "      <th>day and month</th>\n",
       "    </tr>\n",
       "  </thead>\n",
       "  <tbody>\n",
       "    <tr>\n",
       "      <th>2932</th>\n",
       "      <td>Elyse Wanshel</td>\n",
       "      <td>QUEER VOICES</td>\n",
       "      <td>2018-04-02</td>\n",
       "      <td>‘Will &amp; Grace’ Creator To Donate Gay Bunny Boo...</td>\n",
       "      <td>https://www.huffingtonpost.com/entry/will-grac...</td>\n",
       "      <td>It's about to be a lot easier for kids in Mike...</td>\n",
       "      <td>Mon_Apr</td>\n",
       "    </tr>\n",
       "    <tr>\n",
       "      <th>4487</th>\n",
       "      <td>Lyndsey Parker, Yahoo Entertainment</td>\n",
       "      <td>QUEER VOICES</td>\n",
       "      <td>2018-03-06</td>\n",
       "      <td>‘The Voice’ Blind Auditions Make History With ...</td>\n",
       "      <td>https://www.huffingtonpost.com/entry/the-voice...</td>\n",
       "      <td>Austin Giorgio, 21: “How Sweet It Is (To Be Lo...</td>\n",
       "      <td>Tue_Mar</td>\n",
       "    </tr>\n",
       "    <tr>\n",
       "      <th>8255</th>\n",
       "      <td>Sarah Emily Baum, ContributorFreelance Writer</td>\n",
       "      <td>QUEER VOICES</td>\n",
       "      <td>2018-01-05</td>\n",
       "      <td>‘The Penumbra’ Is The Queer Audio Drama You Di...</td>\n",
       "      <td>https://www.huffingtonpost.com/entry/the-penum...</td>\n",
       "      <td>Young, fun, fantastical and, most notably, inc...</td>\n",
       "      <td>Fri_Jan</td>\n",
       "    </tr>\n",
       "    <tr>\n",
       "      <th>744</th>\n",
       "      <td>Ed Mazza</td>\n",
       "      <td>COMEDY</td>\n",
       "      <td>2018-05-11</td>\n",
       "      <td>‘The Opposition’ Gives Trump A Hot Lawyer Of H...</td>\n",
       "      <td>https://www.huffingtonpost.com/entry/trump-hot...</td>\n",
       "      <td>He's here to make a \"strong case\" for the pres...</td>\n",
       "      <td>Fri_May</td>\n",
       "    </tr>\n",
       "    <tr>\n",
       "      <th>2893</th>\n",
       "      <td>Elyse Wanshel</td>\n",
       "      <td>ENTERTAINMENT</td>\n",
       "      <td>2018-04-03</td>\n",
       "      <td>‘Stranger Things’ Fans Will Be Able To Visit T...</td>\n",
       "      <td>https://www.huffingtonpost.com/entry/stranger-...</td>\n",
       "      <td>Hawkins is headed to Hollywood, Orlando and Si...</td>\n",
       "      <td>Tue_Apr</td>\n",
       "    </tr>\n",
       "  </tbody>\n",
       "</table>\n",
       "</div>"
      ],
      "text/plain": [
       "                                            authors       category       date  \\\n",
       "2932                                  Elyse Wanshel   QUEER VOICES 2018-04-02   \n",
       "4487            Lyndsey Parker, Yahoo Entertainment   QUEER VOICES 2018-03-06   \n",
       "8255  Sarah Emily Baum, ContributorFreelance Writer   QUEER VOICES 2018-01-05   \n",
       "744                                        Ed Mazza         COMEDY 2018-05-11   \n",
       "2893                                  Elyse Wanshel  ENTERTAINMENT 2018-04-03   \n",
       "\n",
       "                                               headline  \\\n",
       "2932  ‘Will & Grace’ Creator To Donate Gay Bunny Boo...   \n",
       "4487  ‘The Voice’ Blind Auditions Make History With ...   \n",
       "8255  ‘The Penumbra’ Is The Queer Audio Drama You Di...   \n",
       "744   ‘The Opposition’ Gives Trump A Hot Lawyer Of H...   \n",
       "2893  ‘Stranger Things’ Fans Will Be Able To Visit T...   \n",
       "\n",
       "                                                   link  \\\n",
       "2932  https://www.huffingtonpost.com/entry/will-grac...   \n",
       "4487  https://www.huffingtonpost.com/entry/the-voice...   \n",
       "8255  https://www.huffingtonpost.com/entry/the-penum...   \n",
       "744   https://www.huffingtonpost.com/entry/trump-hot...   \n",
       "2893  https://www.huffingtonpost.com/entry/stranger-...   \n",
       "\n",
       "                                      short_description day and month  \n",
       "2932  It's about to be a lot easier for kids in Mike...       Mon_Apr  \n",
       "4487  Austin Giorgio, 21: “How Sweet It Is (To Be Lo...       Tue_Mar  \n",
       "8255  Young, fun, fantastical and, most notably, inc...       Fri_Jan  \n",
       "744   He's here to make a \"strong case\" for the pres...       Fri_May  \n",
       "2893  Hawkins is headed to Hollywood, Orlando and Si...       Tue_Apr  "
      ]
     },
     "execution_count": 22,
     "metadata": {},
     "output_type": "execute_result"
    }
   ],
   "source": [
    "df_temp.head()"
   ]
  },
  {
   "cell_type": "code",
   "execution_count": 28,
   "metadata": {},
   "outputs": [],
   "source": [
    "#Text Preprocessing\n",
    "#stopwords removal\n",
    "#stop_words = set(stopwords.words('english'))\n",
    "#for i in range(len(df_temp['headline'])):\n",
    " #   string = \"\"\n",
    "  #  for word in df_temp['headline'][i].split():\n",
    "   #     word = (\"\".join(e for e in word if e.isalnum()))\n",
    "    #    word = word.lower\n",
    "     #   if not word in stop_words:\n",
    "      #      string += word + \" \"\n",
    "       # if(i%1000==0):\n",
    "        #    print(i)\n",
    "        #df_temp.at[i,'headline'] = string.strip()\n",
    "stop = stopwords.words('english')\n",
    "df_temp['headline'] = df_temp['headline'].apply(lambda x: \" \".join(x for x in x.split() if x not in stop))\n",
    "\n",
    "df_temp['headline'] = df_temp['headline'].apply(lambda x: \" \".join(x.lower() for x in x.split()))"
   ]
  },
  {
   "cell_type": "code",
   "execution_count": 29,
   "metadata": {},
   "outputs": [
    {
     "data": {
      "text/plain": [
       "2932    ‘will & grace’ creator to donate gay bunny boo...\n",
       "4487    ‘the voice’ blind auditions make history with ...\n",
       "8255    ‘the penumbra’ is the queer audio drama you di...\n",
       "744     ‘the opposition’ gives trump a hot lawyer of h...\n",
       "2893    ‘stranger things’ fans will be able to visit t...\n",
       "Name: headline, dtype: object"
      ]
     },
     "execution_count": 29,
     "metadata": {},
     "output_type": "execute_result"
    }
   ],
   "source": [
    "df_temp['headline'].head()"
   ]
  },
  {
   "cell_type": "code",
   "execution_count": 30,
   "metadata": {},
   "outputs": [],
   "source": [
    "#Tokenizing\n",
    "from nltk.tokenize import RegexpTokenizer\n",
    "#instantiate tokenizer\n",
    "tokenizer = RegexpTokenizer(r'\\w+')\n",
    "df_temp['headline'] = df_temp['headline'].apply(lambda x: tokenizer.tokenize(x))\n",
    "\n",
    "#Stemming\n",
    "from nltk.stem.porter import PorterStemmer\n",
    "porter = PorterStemmer()\n",
    "def word_stemmer(text):\n",
    "    stem_text = \" \".join([porter.stem(i) for i in text])\n",
    "    return stem_text\n",
    "df_temp['headline'] = df_temp['headline'].apply(lambda x: word_stemmer(x))"
   ]
  },
  {
   "cell_type": "code",
   "execution_count": 31,
   "metadata": {},
   "outputs": [
    {
     "data": {
      "text/html": [
       "<div>\n",
       "<style scoped>\n",
       "    .dataframe tbody tr th:only-of-type {\n",
       "        vertical-align: middle;\n",
       "    }\n",
       "\n",
       "    .dataframe tbody tr th {\n",
       "        vertical-align: top;\n",
       "    }\n",
       "\n",
       "    .dataframe thead th {\n",
       "        text-align: right;\n",
       "    }\n",
       "</style>\n",
       "<table border=\"1\" class=\"dataframe\">\n",
       "  <thead>\n",
       "    <tr style=\"text-align: right;\">\n",
       "      <th></th>\n",
       "      <th>authors</th>\n",
       "      <th>category</th>\n",
       "      <th>date</th>\n",
       "      <th>headline</th>\n",
       "      <th>link</th>\n",
       "      <th>short_description</th>\n",
       "      <th>day and month</th>\n",
       "    </tr>\n",
       "  </thead>\n",
       "  <tbody>\n",
       "    <tr>\n",
       "      <th>2932</th>\n",
       "      <td>Elyse Wanshel</td>\n",
       "      <td>QUEER VOICES</td>\n",
       "      <td>2018-04-02</td>\n",
       "      <td>will grace creator to donat gay bunni book to ...</td>\n",
       "      <td>https://www.huffingtonpost.com/entry/will-grac...</td>\n",
       "      <td>It's about to be a lot easier for kids in Mike...</td>\n",
       "      <td>Mon_Apr</td>\n",
       "    </tr>\n",
       "    <tr>\n",
       "      <th>4487</th>\n",
       "      <td>Lyndsey Parker, Yahoo Entertainment</td>\n",
       "      <td>QUEER VOICES</td>\n",
       "      <td>2018-03-06</td>\n",
       "      <td>the voic blind audit make histori with first t...</td>\n",
       "      <td>https://www.huffingtonpost.com/entry/the-voice...</td>\n",
       "      <td>Austin Giorgio, 21: “How Sweet It Is (To Be Lo...</td>\n",
       "      <td>Tue_Mar</td>\n",
       "    </tr>\n",
       "    <tr>\n",
       "      <th>8255</th>\n",
       "      <td>Sarah Emily Baum, ContributorFreelance Writer</td>\n",
       "      <td>QUEER VOICES</td>\n",
       "      <td>2018-01-05</td>\n",
       "      <td>the penumbra is the queer audio drama you didn...</td>\n",
       "      <td>https://www.huffingtonpost.com/entry/the-penum...</td>\n",
       "      <td>Young, fun, fantastical and, most notably, inc...</td>\n",
       "      <td>Fri_Jan</td>\n",
       "    </tr>\n",
       "    <tr>\n",
       "      <th>744</th>\n",
       "      <td>Ed Mazza</td>\n",
       "      <td>COMEDY</td>\n",
       "      <td>2018-05-11</td>\n",
       "      <td>the opposit give trump a hot lawyer of hi own</td>\n",
       "      <td>https://www.huffingtonpost.com/entry/trump-hot...</td>\n",
       "      <td>He's here to make a \"strong case\" for the pres...</td>\n",
       "      <td>Fri_May</td>\n",
       "    </tr>\n",
       "    <tr>\n",
       "      <th>2893</th>\n",
       "      <td>Elyse Wanshel</td>\n",
       "      <td>ENTERTAINMENT</td>\n",
       "      <td>2018-04-03</td>\n",
       "      <td>stranger thing fan will be abl to visit the up...</td>\n",
       "      <td>https://www.huffingtonpost.com/entry/stranger-...</td>\n",
       "      <td>Hawkins is headed to Hollywood, Orlando and Si...</td>\n",
       "      <td>Tue_Apr</td>\n",
       "    </tr>\n",
       "  </tbody>\n",
       "</table>\n",
       "</div>"
      ],
      "text/plain": [
       "                                            authors       category       date  \\\n",
       "2932                                  Elyse Wanshel   QUEER VOICES 2018-04-02   \n",
       "4487            Lyndsey Parker, Yahoo Entertainment   QUEER VOICES 2018-03-06   \n",
       "8255  Sarah Emily Baum, ContributorFreelance Writer   QUEER VOICES 2018-01-05   \n",
       "744                                        Ed Mazza         COMEDY 2018-05-11   \n",
       "2893                                  Elyse Wanshel  ENTERTAINMENT 2018-04-03   \n",
       "\n",
       "                                               headline  \\\n",
       "2932  will grace creator to donat gay bunni book to ...   \n",
       "4487  the voic blind audit make histori with first t...   \n",
       "8255  the penumbra is the queer audio drama you didn...   \n",
       "744       the opposit give trump a hot lawyer of hi own   \n",
       "2893  stranger thing fan will be abl to visit the up...   \n",
       "\n",
       "                                                   link  \\\n",
       "2932  https://www.huffingtonpost.com/entry/will-grac...   \n",
       "4487  https://www.huffingtonpost.com/entry/the-voice...   \n",
       "8255  https://www.huffingtonpost.com/entry/the-penum...   \n",
       "744   https://www.huffingtonpost.com/entry/trump-hot...   \n",
       "2893  https://www.huffingtonpost.com/entry/stranger-...   \n",
       "\n",
       "                                      short_description day and month  \n",
       "2932  It's about to be a lot easier for kids in Mike...       Mon_Apr  \n",
       "4487  Austin Giorgio, 21: “How Sweet It Is (To Be Lo...       Tue_Mar  \n",
       "8255  Young, fun, fantastical and, most notably, inc...       Fri_Jan  \n",
       "744   He's here to make a \"strong case\" for the pres...       Fri_May  \n",
       "2893  Hawkins is headed to Hollywood, Orlando and Si...       Tue_Apr  "
      ]
     },
     "execution_count": 31,
     "metadata": {},
     "output_type": "execute_result"
    }
   ],
   "source": [
    "df_temp.head()"
   ]
  },
  {
   "cell_type": "code",
   "execution_count": 33,
   "metadata": {},
   "outputs": [],
   "source": [
    "from sklearn.feature_extraction.text import CountVectorizer\n",
    "headline_vectorizer = CountVectorizer()\n",
    "headline_features = headline_vectorizer.fit_transform(df_temp['headline'])"
   ]
  },
  {
   "cell_type": "code",
   "execution_count": 36,
   "metadata": {},
   "outputs": [
    {
     "data": {
      "text/plain": [
       "(8485, 9041)"
      ]
     },
     "execution_count": 36,
     "metadata": {},
     "output_type": "execute_result"
    }
   ],
   "source": [
    "headline_features.get_shape()"
   ]
  },
  {
   "cell_type": "code",
   "execution_count": 37,
   "metadata": {},
   "outputs": [],
   "source": [
    "pd.set_option('display.max_colwidth', -1)  # To display a very long headline completely"
   ]
  },
  {
   "cell_type": "code",
   "execution_count": 38,
   "metadata": {},
   "outputs": [
    {
     "name": "stdout",
     "output_type": "stream",
     "text": [
      "============================== Queried article details ==============================\n",
      "headline :  Can You Believe? Queer Eye Season 2 Drops Next Month\n",
      "\n",
      " ========================= Recommended articles :  =======================\n"
     ]
    },
    {
     "data": {
      "text/html": [
       "<div>\n",
       "<style scoped>\n",
       "    .dataframe tbody tr th:only-of-type {\n",
       "        vertical-align: middle;\n",
       "    }\n",
       "\n",
       "    .dataframe tbody tr th {\n",
       "        vertical-align: top;\n",
       "    }\n",
       "\n",
       "    .dataframe thead th {\n",
       "        text-align: right;\n",
       "    }\n",
       "</style>\n",
       "<table border=\"1\" class=\"dataframe\">\n",
       "  <thead>\n",
       "    <tr style=\"text-align: right;\">\n",
       "      <th></th>\n",
       "      <th>publish_date</th>\n",
       "      <th>headline</th>\n",
       "      <th>Euclidean similarity with the queried article</th>\n",
       "    </tr>\n",
       "  </thead>\n",
       "  <tbody>\n",
       "    <tr>\n",
       "      <th>1</th>\n",
       "      <td>2018-01-30</td>\n",
       "      <td>GOP Congressman Calls For Undocumented SOTU Guests To Be Arrested On The Spot</td>\n",
       "      <td>3.605551</td>\n",
       "    </tr>\n",
       "    <tr>\n",
       "      <th>2</th>\n",
       "      <td>2018-01-12</td>\n",
       "      <td>Alton Sterling's Family Seeks Release Of Controversial Video, Evidence</td>\n",
       "      <td>3.605551</td>\n",
       "    </tr>\n",
       "    <tr>\n",
       "      <th>3</th>\n",
       "      <td>2018-04-23</td>\n",
       "      <td>For The First Time, Here Are Jerry Garcia's Earliest Known Recorded Performances</td>\n",
       "      <td>3.605551</td>\n",
       "    </tr>\n",
       "    <tr>\n",
       "      <th>4</th>\n",
       "      <td>2018-02-08</td>\n",
       "      <td>Prison Or Deportation: The Impossible Choice For Asylum Seekers In Israel</td>\n",
       "      <td>3.741657</td>\n",
       "    </tr>\n",
       "    <tr>\n",
       "      <th>5</th>\n",
       "      <td>2018-05-17</td>\n",
       "      <td>Boulder City Council Unanimously Votes To Ban Assault Weapons, High-Capacity Magazines</td>\n",
       "      <td>3.741657</td>\n",
       "    </tr>\n",
       "    <tr>\n",
       "      <th>6</th>\n",
       "      <td>2018-03-27</td>\n",
       "      <td>Larry Nassar's Longtime MSU Boss Arrested On Sexual Misconduct Charges</td>\n",
       "      <td>3.741657</td>\n",
       "    </tr>\n",
       "    <tr>\n",
       "      <th>7</th>\n",
       "      <td>2018-05-09</td>\n",
       "      <td>NY Legislature Has Plan In Place To Consider Replacements For Eric Schneiderman</td>\n",
       "      <td>3.741657</td>\n",
       "    </tr>\n",
       "    <tr>\n",
       "      <th>8</th>\n",
       "      <td>2018-01-22</td>\n",
       "      <td>Lindsey Graham Slams Trump Aide, Says White House Staff Making Negotiations ‘Difficult’</td>\n",
       "      <td>3.741657</td>\n",
       "    </tr>\n",
       "    <tr>\n",
       "      <th>9</th>\n",
       "      <td>2018-05-07</td>\n",
       "      <td>Childish Gambino's 'This Is America' Video, Explained</td>\n",
       "      <td>3.741657</td>\n",
       "    </tr>\n",
       "    <tr>\n",
       "      <th>10</th>\n",
       "      <td>2018-05-09</td>\n",
       "      <td>Seth Meyers Decodes Teen Slang, Reveals What ‘Giuliani’ Really Means</td>\n",
       "      <td>3.741657</td>\n",
       "    </tr>\n",
       "  </tbody>\n",
       "</table>\n",
       "</div>"
      ],
      "text/plain": [
       "   publish_date  \\\n",
       "1  2018-01-30     \n",
       "2  2018-01-12     \n",
       "3  2018-04-23     \n",
       "4  2018-02-08     \n",
       "5  2018-05-17     \n",
       "6  2018-03-27     \n",
       "7  2018-05-09     \n",
       "8  2018-01-22     \n",
       "9  2018-05-07     \n",
       "10 2018-05-09     \n",
       "\n",
       "                                                                                   headline  \\\n",
       "1   GOP Congressman Calls For Undocumented SOTU Guests To Be Arrested On The Spot             \n",
       "2   Alton Sterling's Family Seeks Release Of Controversial Video, Evidence                    \n",
       "3   For The First Time, Here Are Jerry Garcia's Earliest Known Recorded Performances          \n",
       "4   Prison Or Deportation: The Impossible Choice For Asylum Seekers In Israel                 \n",
       "5   Boulder City Council Unanimously Votes To Ban Assault Weapons, High-Capacity Magazines    \n",
       "6   Larry Nassar's Longtime MSU Boss Arrested On Sexual Misconduct Charges                    \n",
       "7   NY Legislature Has Plan In Place To Consider Replacements For Eric Schneiderman           \n",
       "8   Lindsey Graham Slams Trump Aide, Says White House Staff Making Negotiations ‘Difficult’   \n",
       "9   Childish Gambino's 'This Is America' Video, Explained                                     \n",
       "10  Seth Meyers Decodes Teen Slang, Reveals What ‘Giuliani’ Really Means                      \n",
       "\n",
       "    Euclidean similarity with the queried article  \n",
       "1   3.605551                                       \n",
       "2   3.605551                                       \n",
       "3   3.605551                                       \n",
       "4   3.741657                                       \n",
       "5   3.741657                                       \n",
       "6   3.741657                                       \n",
       "7   3.741657                                       \n",
       "8   3.741657                                       \n",
       "9   3.741657                                       \n",
       "10  3.741657                                       "
      ]
     },
     "execution_count": 38,
     "metadata": {},
     "output_type": "execute_result"
    }
   ],
   "source": [
    "def bag_of_words_based_model(row_index, num_similar_items):\n",
    "    couple_dist = pairwise_distances(headline_features,headline_features[row_index])\n",
    "    indices = np.argsort(couple_dist.ravel())[0:num_similar_items]\n",
    "    df_1 = pd.DataFrame({'publish_date': df['date'][indices].values,\n",
    "               'headline':df['headline'][indices].values,\n",
    "                'Euclidean similarity with the queried article': couple_dist[indices].ravel()})\n",
    "    print(\"=\"*30,\"Queried article details\",\"=\"*30)\n",
    "    print('headline : ',df['headline'][indices[0]])\n",
    "    print(\"\\n\",\"=\"*25,\"Recommended articles : \",\"=\"*23)\n",
    "    #return df_1.iloc[1:,1]\n",
    "    return df_1.iloc[1:,]\n",
    "\n",
    "bag_of_words_based_model(133, 11) # Change the row index for any other queried article"
   ]
  },
  {
   "cell_type": "code",
   "execution_count": 41,
   "metadata": {},
   "outputs": [],
   "source": [
    "tfidf_headline_vectorizer = TfidfVectorizer(min_df = 0)\n",
    "tfidf_headline_features = tfidf_headline_vectorizer.fit_transform(df_temp['headline'])"
   ]
  },
  {
   "cell_type": "code",
   "execution_count": 42,
   "metadata": {},
   "outputs": [
    {
     "name": "stdout",
     "output_type": "stream",
     "text": [
      "============================== Queried article details ==============================\n",
      "headline :  Can You Believe? Queer Eye Season 2 Drops Next Month\n",
      "\n",
      " ========================= Recommended articles :  =======================\n"
     ]
    },
    {
     "data": {
      "text/html": [
       "<div>\n",
       "<style scoped>\n",
       "    .dataframe tbody tr th:only-of-type {\n",
       "        vertical-align: middle;\n",
       "    }\n",
       "\n",
       "    .dataframe tbody tr th {\n",
       "        vertical-align: top;\n",
       "    }\n",
       "\n",
       "    .dataframe thead th {\n",
       "        text-align: right;\n",
       "    }\n",
       "</style>\n",
       "<table border=\"1\" class=\"dataframe\">\n",
       "  <thead>\n",
       "    <tr style=\"text-align: right;\">\n",
       "      <th></th>\n",
       "      <th>publish_date</th>\n",
       "      <th>headline</th>\n",
       "      <th>Euclidean similarity with the queried article</th>\n",
       "    </tr>\n",
       "  </thead>\n",
       "  <tbody>\n",
       "    <tr>\n",
       "      <th>1</th>\n",
       "      <td>2018-04-26</td>\n",
       "      <td>James Comey Is 'Embarrassed And Ashamed' Of The Republican Party</td>\n",
       "      <td>1.223185</td>\n",
       "    </tr>\n",
       "    <tr>\n",
       "      <th>2</th>\n",
       "      <td>2018-05-11</td>\n",
       "      <td>Trump Just Launched The War On Christmas In May And People Are So Not Having It</td>\n",
       "      <td>1.251238</td>\n",
       "    </tr>\n",
       "    <tr>\n",
       "      <th>3</th>\n",
       "      <td>2018-01-23</td>\n",
       "      <td>Matt Bomer, Zachary Quinto And More Prep 'Boys In The Band' For Broadway</td>\n",
       "      <td>1.253730</td>\n",
       "    </tr>\n",
       "    <tr>\n",
       "      <th>4</th>\n",
       "      <td>2018-02-13</td>\n",
       "      <td>New Jersey Deputy Mayor Compares Undocumented Immigrants To  'Rabid Raccoons'</td>\n",
       "      <td>1.263168</td>\n",
       "    </tr>\n",
       "    <tr>\n",
       "      <th>5</th>\n",
       "      <td>2018-01-31</td>\n",
       "      <td>Trump Executive Order Helps Cement Guantanamo's Status As A Forever Prison</td>\n",
       "      <td>1.275761</td>\n",
       "    </tr>\n",
       "    <tr>\n",
       "      <th>6</th>\n",
       "      <td>2018-03-09</td>\n",
       "      <td>Colin Firth’s Wife Reveals She Had An Affair With Couple’s Alleged Stalker</td>\n",
       "      <td>1.277962</td>\n",
       "    </tr>\n",
       "    <tr>\n",
       "      <th>7</th>\n",
       "      <td>2018-02-09</td>\n",
       "      <td>Team USA's Openly Gay Athletes Aren't Backing Down From Feud With Vice President</td>\n",
       "      <td>1.289588</td>\n",
       "    </tr>\n",
       "    <tr>\n",
       "      <th>8</th>\n",
       "      <td>2018-04-23</td>\n",
       "      <td>For The First Time, Here Are Jerry Garcia's Earliest Known Recorded Performances</td>\n",
       "      <td>1.289767</td>\n",
       "    </tr>\n",
       "    <tr>\n",
       "      <th>9</th>\n",
       "      <td>2018-02-09</td>\n",
       "      <td>2 Koreas Make History Marching Under Unified Flag In Olympics Opener</td>\n",
       "      <td>1.289893</td>\n",
       "    </tr>\n",
       "    <tr>\n",
       "      <th>10</th>\n",
       "      <td>2018-03-09</td>\n",
       "      <td>Charles Koch Complains About Corporate Influence In Politics In Surprising Op-Ed</td>\n",
       "      <td>1.292562</td>\n",
       "    </tr>\n",
       "  </tbody>\n",
       "</table>\n",
       "</div>"
      ],
      "text/plain": [
       "   publish_date  \\\n",
       "1  2018-04-26     \n",
       "2  2018-05-11     \n",
       "3  2018-01-23     \n",
       "4  2018-02-13     \n",
       "5  2018-01-31     \n",
       "6  2018-03-09     \n",
       "7  2018-02-09     \n",
       "8  2018-04-23     \n",
       "9  2018-02-09     \n",
       "10 2018-03-09     \n",
       "\n",
       "                                                                            headline  \\\n",
       "1   James Comey Is 'Embarrassed And Ashamed' Of The Republican Party                   \n",
       "2   Trump Just Launched The War On Christmas In May And People Are So Not Having It    \n",
       "3   Matt Bomer, Zachary Quinto And More Prep 'Boys In The Band' For Broadway           \n",
       "4   New Jersey Deputy Mayor Compares Undocumented Immigrants To  'Rabid Raccoons'      \n",
       "5   Trump Executive Order Helps Cement Guantanamo's Status As A Forever Prison         \n",
       "6   Colin Firth’s Wife Reveals She Had An Affair With Couple’s Alleged Stalker         \n",
       "7   Team USA's Openly Gay Athletes Aren't Backing Down From Feud With Vice President   \n",
       "8   For The First Time, Here Are Jerry Garcia's Earliest Known Recorded Performances   \n",
       "9   2 Koreas Make History Marching Under Unified Flag In Olympics Opener               \n",
       "10  Charles Koch Complains About Corporate Influence In Politics In Surprising Op-Ed   \n",
       "\n",
       "    Euclidean similarity with the queried article  \n",
       "1   1.223185                                       \n",
       "2   1.251238                                       \n",
       "3   1.253730                                       \n",
       "4   1.263168                                       \n",
       "5   1.275761                                       \n",
       "6   1.277962                                       \n",
       "7   1.289588                                       \n",
       "8   1.289767                                       \n",
       "9   1.289893                                       \n",
       "10  1.292562                                       "
      ]
     },
     "execution_count": 42,
     "metadata": {},
     "output_type": "execute_result"
    }
   ],
   "source": [
    "def tfidf_based_model(row_index, num_similar_items):\n",
    "    couple_dist = pairwise_distances(tfidf_headline_features,tfidf_headline_features[row_index])\n",
    "    indices = np.argsort(couple_dist.ravel())[0:num_similar_items]\n",
    "    df_2 = pd.DataFrame({'publish_date': df['date'][indices].values,\n",
    "               'headline':df['headline'][indices].values,\n",
    "                'Euclidean similarity with the queried article': couple_dist[indices].ravel()})\n",
    "    print(\"=\"*30,\"Queried article details\",\"=\"*30)\n",
    "    print('headline : ',df['headline'][indices[0]])\n",
    "    print(\"\\n\",\"=\"*25,\"Recommended articles : \",\"=\"*23)\n",
    "    \n",
    "    #return df_2.iloc[1:,1]\n",
    "    return df_2.iloc[1:,]\n",
    "tfidf_based_model(133, 11)"
   ]
  },
  {
   "cell_type": "code",
   "execution_count": null,
   "metadata": {},
   "outputs": [],
   "source": []
  }
 ],
 "metadata": {
  "kernelspec": {
   "display_name": "Python 3",
   "language": "python",
   "name": "python3"
  },
  "language_info": {
   "codemirror_mode": {
    "name": "ipython",
    "version": 3
   },
   "file_extension": ".py",
   "mimetype": "text/x-python",
   "name": "python",
   "nbconvert_exporter": "python",
   "pygments_lexer": "ipython3",
   "version": "3.7.3"
  }
 },
 "nbformat": 4,
 "nbformat_minor": 2
}
